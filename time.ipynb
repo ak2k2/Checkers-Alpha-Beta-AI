{
 "cells": [
  {
   "cell_type": "code",
   "execution_count": 3,
   "metadata": {},
   "outputs": [
    {
     "name": "stdout",
     "output_type": "stream",
     "text": [
      "16.16863988100522\n"
     ]
    }
   ],
   "source": [
    "from timeit import timeit\n",
    "from game import simulate_random_game\n",
    "\n",
    "def time_random_game():\n",
    "    simulate_random_game()\n",
    "    \n",
    "\n",
    "print(timeit(time_random_game, number=1000))"
   ]
  },
  {
   "cell_type": "code",
   "execution_count": 4,
   "metadata": {},
   "outputs": [
    {
     "name": "stdout",
     "output_type": "stream",
     "text": [
      "26.997763206003583\n"
     ]
    }
   ],
   "source": [
    "from game_np import simulate_random_game_np\n",
    "\n",
    "def time_random_game_np():\n",
    "    simulate_random_game_np()\n",
    "\n",
    "print(timeit(time_random_game_np, number=1000))"
   ]
  }
 ],
 "metadata": {
  "kernelspec": {
   "display_name": ".virtualenvs",
   "language": "python",
   "name": "python3"
  },
  "language_info": {
   "codemirror_mode": {
    "name": "ipython",
    "version": 3
   },
   "file_extension": ".py",
   "mimetype": "text/x-python",
   "name": "python",
   "nbconvert_exporter": "python",
   "pygments_lexer": "ipython3",
   "version": "3.10.12"
  },
  "orig_nbformat": 4
 },
 "nbformat": 4,
 "nbformat_minor": 2
}
