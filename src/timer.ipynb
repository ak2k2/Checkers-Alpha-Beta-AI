{
 "cells": [
  {
   "cell_type": "code",
   "execution_count": 1,
   "metadata": {},
   "outputs": [],
   "source": [
    "from main import *\n",
    "import numpy as np"
   ]
  },
  {
   "cell_type": "code",
   "execution_count": 3,
   "metadata": {},
   "outputs": [
    {
     "name": "stdout",
     "output_type": "stream",
     "text": [
      "\n",
      "\n",
      "    A   B   C   D   E   F   G   H\n",
      "  +---+---+---+---+---+---+---+---+\n",
      "8 |   | b |   |   |   |   |   |   |\n",
      "  +---+---+---+---+---+---+---+---+\n",
      "7 |   |   | b |   | w |   |   |   |\n",
      "  +---+---+---+---+---+---+---+---+\n",
      "6 |   |   |   |   |   |   |   | b |\n",
      "  +---+---+---+---+---+---+---+---+\n",
      "5 | b |   |   |   |   |   |   |   |\n",
      "  +---+---+---+---+---+---+---+---+\n",
      "4 |   |   |   | w |   | b |   |   |\n",
      "  +---+---+---+---+---+---+---+---+\n",
      "3 |   |   |   |   | w |   |   |   |\n",
      "  +---+---+---+---+---+---+---+---+\n",
      "2 |   |   |   |   |   | w |   |   |\n",
      "  +---+---+---+---+---+---+---+---+\n",
      "1 |   |   | w |   |   |   |   |   |\n",
      "  +---+---+---+---+---+---+---+---+\n",
      "\n",
      "\n",
      "White moves: ['F2->E1', 'F2->G1', 'E3->D2', 'D4->C3', 'E7->D6', 'E7->F6']\n",
      "Black moves: ['C1->D2', 'C1->B2', 'D4->E5', 'D4->C5', 'F4->G5', 'F4->E5', 'A5->B6', 'H6->G7', 'C7->D8']\n"
     ]
    }
   ],
   "source": [
    "WP, BP, K = get_empty_board()\n",
    "\n",
    "valid_locs = list(PDN_MAP.values())\n",
    "\n",
    "for i in range(5):\n",
    "    WP = insert_piece_by_pdntext(WP, np.random.choice(valid_locs))\n",
    "for j in range(8):\n",
    "    BP = insert_piece_by_pdntext(BP, np.random.choice(valid_locs))\n",
    "\n",
    "# for x in range(10):\n",
    "#     # pick a random location that is occupied by a white piece or a black piece and insert a king there by index\n",
    "#     K = insert_piece(K, np.random.choice(np.where(WP == 1)[0]))\n",
    "#     K = insert_piece(K, np.random.choice(np.where(BP == 1)[0]))\n",
    "\n",
    "WP, BP, K = WP & MASK_32, BP & MASK_32, K & MASK_32\n",
    "print_board(WP, BP, K)\n",
    "\n",
    "\n",
    "white_moves = generate_legal_moves(WP, BP, K, PlayerTurn.WHITE)\n",
    "black_moves = generate_legal_moves(WP, BP, K, PlayerTurn.BLACK)\n",
    "\n",
    "# print_board(WP, BP, K)\n",
    "print(f\"White moves: {convert_move_list_to_pdn(white_moves)}\")\n",
    "print(f\"Black moves: {convert_move_list_to_pdn(black_moves)}\")\n"
   ]
  },
  {
   "cell_type": "code",
   "execution_count": 4,
   "metadata": {},
   "outputs": [
    {
     "ename": "ImportError",
     "evalue": "cannot import name 'KING_ROW_BLACK' from 'main' (/Users/armaan/Desktop/Fall-2023 Classes/Sable-Artificial-Intelligence/Checkers-AI/src/main.py)",
     "output_type": "error",
     "traceback": [
      "\u001b[0;31m---------------------------------------------------------------------------\u001b[0m",
      "\u001b[0;31mImportError\u001b[0m                               Traceback (most recent call last)",
      "\u001b[1;32m/Users/armaan/Desktop/Fall-2023 Classes/Sable-Artificial-Intelligence/Checkers-AI/src/timer.ipynb Cell 3\u001b[0m line \u001b[0;36m1\n\u001b[0;32m----> <a href='vscode-notebook-cell:/Users/armaan/Desktop/Fall-2023%20Classes/Sable-Artificial-Intelligence/Checkers-AI/src/timer.ipynb#W5sZmlsZQ%3D%3D?line=0'>1</a>\u001b[0m \u001b[39mfrom\u001b[39;00m \u001b[39mgame\u001b[39;00m \u001b[39mimport\u001b[39;00m simulate_random_games\n\u001b[1;32m      <a href='vscode-notebook-cell:/Users/armaan/Desktop/Fall-2023%20Classes/Sable-Artificial-Intelligence/Checkers-AI/src/timer.ipynb#W5sZmlsZQ%3D%3D?line=2'>3</a>\u001b[0m simulate_random_games(\u001b[39m10\u001b[39m, first_player\u001b[39m=\u001b[39mPlayerTurn\u001b[39m.\u001b[39mWHITE)\n",
      "File \u001b[0;32m~/Desktop/Fall-2023 Classes/Sable-Artificial-Intelligence/Checkers-AI/src/game.py:3\u001b[0m\n\u001b[1;32m      1\u001b[0m \u001b[39mimport\u001b[39;00m \u001b[39mcProfile\u001b[39;00m\n\u001b[0;32m----> 3\u001b[0m \u001b[39mfrom\u001b[39;00m \u001b[39mmain\u001b[39;00m \u001b[39mimport\u001b[39;00m (\n\u001b[1;32m      4\u001b[0m     BLACK_JUMP_NORTHEAST,\n\u001b[1;32m      5\u001b[0m     BLACK_JUMP_NORTHWEST,\n\u001b[1;32m      6\u001b[0m     BLACK_NORTHEAST,\n\u001b[1;32m      7\u001b[0m     BLACK_NORTHWEST,\n\u001b[1;32m      8\u001b[0m     KING_ROW_BLACK,\n\u001b[1;32m      9\u001b[0m     KING_ROW_WHITE,\n\u001b[1;32m     10\u001b[0m     MASK_32,\n\u001b[1;32m     11\u001b[0m     WHITE_JUMP_SOUTHEAST,\n\u001b[1;32m     12\u001b[0m     WHITE_JUMP_SOUTHWEST,\n\u001b[1;32m     13\u001b[0m     WHITE_SOUTHEAST,\n\u001b[1;32m     14\u001b[0m     WHITE_SOUTHWEST,\n\u001b[1;32m     15\u001b[0m     PlayerTurn,\n\u001b[1;32m     16\u001b[0m     convert_move_list_to_pdn,\n\u001b[1;32m     17\u001b[0m     generate_legal_moves,\n\u001b[1;32m     18\u001b[0m     get_empty_board,\n\u001b[1;32m     19\u001b[0m     get_fresh_board,\n\u001b[1;32m     20\u001b[0m     insert_piece_by_pdntext,\n\u001b[1;32m     21\u001b[0m     print_board,\n\u001b[1;32m     22\u001b[0m )\n\u001b[1;32m     24\u001b[0m \u001b[39m# Assuming these masks are defined correctly elsewhere:\u001b[39;00m\n\u001b[1;32m     25\u001b[0m \u001b[39m# WHITE_JUMP_SOUTHEAST, WHITE_JUMP_SOUTHWEST, BLACK_JUMP_NORTHEAST, BLACK_JUMP_NORTHWEST\u001b[39;00m\n\u001b[1;32m     26\u001b[0m \u001b[39m# WHITE_SOUTHEAST, WHITE_SOUTHWEST, BLACK_NORTHEAST, BLACK_NORTHWEST\u001b[39;00m\n\u001b[1;32m     28\u001b[0m JUMP_MASKS \u001b[39m=\u001b[39m {\n\u001b[1;32m     29\u001b[0m     \u001b[39m\"\u001b[39m\u001b[39mJSE\u001b[39m\u001b[39m\"\u001b[39m: WHITE_JUMP_SOUTHEAST,\n\u001b[1;32m     30\u001b[0m     \u001b[39m\"\u001b[39m\u001b[39mJSW\u001b[39m\u001b[39m\"\u001b[39m: WHITE_JUMP_SOUTHWEST,\n\u001b[1;32m     31\u001b[0m     \u001b[39m\"\u001b[39m\u001b[39mJNE\u001b[39m\u001b[39m\"\u001b[39m: BLACK_JUMP_NORTHEAST,\n\u001b[1;32m     32\u001b[0m     \u001b[39m\"\u001b[39m\u001b[39mJNW\u001b[39m\u001b[39m\"\u001b[39m: BLACK_JUMP_NORTHWEST,\n\u001b[1;32m     33\u001b[0m }\n",
      "\u001b[0;31mImportError\u001b[0m: cannot import name 'KING_ROW_BLACK' from 'main' (/Users/armaan/Desktop/Fall-2023 Classes/Sable-Artificial-Intelligence/Checkers-AI/src/main.py)"
     ]
    }
   ],
   "source": [
    "from game import simulate_random_games\n",
    "\n",
    "simulate_random_games(10, first_player=PlayerTurn.WHITE)"
   ]
  }
 ],
 "metadata": {
  "kernelspec": {
   "display_name": ".virtualenvs",
   "language": "python",
   "name": "python3"
  },
  "language_info": {
   "codemirror_mode": {
    "name": "ipython",
    "version": 3
   },
   "file_extension": ".py",
   "mimetype": "text/x-python",
   "name": "python",
   "nbconvert_exporter": "python",
   "pygments_lexer": "ipython3",
   "version": "3.10.13"
  }
 },
 "nbformat": 4,
 "nbformat_minor": 2
}
