{
 "cells": [
  {
   "cell_type": "code",
   "execution_count": 1,
   "metadata": {},
   "outputs": [],
   "source": [
    "from main import *\n",
    "import numpy as np"
   ]
  },
  {
   "cell_type": "code",
   "execution_count": 3,
   "metadata": {},
   "outputs": [
    {
     "name": "stdout",
     "output_type": "stream",
     "text": [
      "\n",
      "\n",
      "    A   B   C   D   E   F   G   H\n",
      "  +---+---+---+---+---+---+---+---+\n",
      "8 |   | b |   |   |   |   |   |   |\n",
      "  +---+---+---+---+---+---+---+---+\n",
      "7 |   |   | b |   | w |   |   |   |\n",
      "  +---+---+---+---+---+---+---+---+\n",
      "6 |   |   |   |   |   |   |   | b |\n",
      "  +---+---+---+---+---+---+---+---+\n",
      "5 | b |   |   |   |   |   |   |   |\n",
      "  +---+---+---+---+---+---+---+---+\n",
      "4 |   |   |   | w |   | b |   |   |\n",
      "  +---+---+---+---+---+---+---+---+\n",
      "3 |   |   |   |   | w |   |   |   |\n",
      "  +---+---+---+---+---+---+---+---+\n",
      "2 |   |   |   |   |   | w |   |   |\n",
      "  +---+---+---+---+---+---+---+---+\n",
      "1 |   |   | w |   |   |   |   |   |\n",
      "  +---+---+---+---+---+---+---+---+\n",
      "\n",
      "\n",
      "White moves: ['F2->E1', 'F2->G1', 'E3->D2', 'D4->C3', 'E7->D6', 'E7->F6']\n",
      "Black moves: ['C1->D2', 'C1->B2', 'D4->E5', 'D4->C5', 'F4->G5', 'F4->E5', 'A5->B6', 'H6->G7', 'C7->D8']\n"
     ]
    }
   ],
   "source": [
    "WP, BP, K = get_empty_board()\n",
    "\n",
    "valid_locs = list(PDN_MAP.values())\n",
    "\n",
    "for i in range(5):\n",
    "    WP = insert_piece_by_pdntext(WP, np.random.choice(valid_locs))\n",
    "for j in range(8):\n",
    "    BP = insert_piece_by_pdntext(BP, np.random.choice(valid_locs))\n",
    "\n",
    "# for x in range(10):\n",
    "#     # pick a random location that is occupied by a white piece or a black piece and insert a king there by index\n",
    "#     K = insert_piece(K, np.random.choice(np.where(WP == 1)[0]))\n",
    "#     K = insert_piece(K, np.random.choice(np.where(BP == 1)[0]))\n",
    "\n",
    "WP, BP, K = WP & MASK_32, BP & MASK_32, K & MASK_32\n",
    "print_board(WP, BP, K)\n",
    "\n",
    "\n",
    "white_moves = generate_legal_moves(WP, BP, K, PlayerTurn.WHITE)\n",
    "black_moves = generate_legal_moves(WP, BP, K, PlayerTurn.BLACK)\n",
    "\n",
    "# print_board(WP, BP, K)\n",
    "print(f\"White moves: {convert_move_list_to_pdn(white_moves)}\")\n",
    "print(f\"Black moves: {convert_move_list_to_pdn(black_moves)}\")\n"
   ]
  }
 ],
 "metadata": {
  "kernelspec": {
   "display_name": ".virtualenvs",
   "language": "python",
   "name": "python3"
  },
  "language_info": {
   "codemirror_mode": {
    "name": "ipython",
    "version": 3
   },
   "file_extension": ".py",
   "mimetype": "text/x-python",
   "name": "python",
   "nbconvert_exporter": "python",
   "pygments_lexer": "ipython3",
   "version": "3.10.13"
  }
 },
 "nbformat": 4,
 "nbformat_minor": 2
}
