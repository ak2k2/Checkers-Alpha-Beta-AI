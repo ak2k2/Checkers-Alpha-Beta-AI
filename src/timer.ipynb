{
 "cells": [
  {
   "cell_type": "code",
   "execution_count": 1,
   "metadata": {},
   "outputs": [],
   "source": [
    "from main import *"
   ]
  },
  {
   "cell_type": "code",
   "execution_count": 2,
   "metadata": {},
   "outputs": [],
   "source": [
    "import numpy as np"
   ]
  },
  {
   "cell_type": "code",
   "execution_count": 134,
   "metadata": {},
   "outputs": [
    {
     "name": "stdout",
     "output_type": "stream",
     "text": [
      "\n",
      "\n",
      "    A   B   C   D   E   F   G   H\n",
      "  +---+---+---+---+---+---+---+---+\n",
      "8 |   |   |   |   |   |   |   |   |\n",
      "  +---+---+---+---+---+---+---+---+\n",
      "7 |   |   |   |   |   |   | w |   |\n",
      "  +---+---+---+---+---+---+---+---+\n",
      "6 |   | w |   |   |   |   |   |   |\n",
      "  +---+---+---+---+---+---+---+---+\n",
      "5 | w |   |   |   |   |   |   |   |\n",
      "  +---+---+---+---+---+---+---+---+\n",
      "4 |   |   |   |   |   |   |   |   |\n",
      "  +---+---+---+---+---+---+---+---+\n",
      "3 | w |   |   |   |   |   |   |   |\n",
      "  +---+---+---+---+---+---+---+---+\n",
      "2 |   | b |   | b |   | w |   | b |\n",
      "  +---+---+---+---+---+---+---+---+\n",
      "1 |   |   |   |   |   |   | b |   |\n",
      "  +---+---+---+---+---+---+---+---+\n",
      "\n",
      "\n",
      "0b1000000100010000000101000000\n",
      "0b100010000000011111000\n",
      "0b0\n",
      "White moves: ['A3->C1']\n",
      "Black moves: ['G1->E3', 'A5->C7']\n"
     ]
    }
   ],
   "source": [
    "WP, BP, K = get_empty_board()\n",
    "\n",
    "valid_locs = list(PDN_MAP.values())\n",
    "\n",
    "for i in range(5):\n",
    "    WP = insert_piece_by_pdntext(WP, np.random.choice(valid_locs))\n",
    "for j in range(8):\n",
    "    BP = insert_piece_by_pdntext(BP, np.random.choice(valid_locs))\n",
    "\n",
    "# for x in range(10):\n",
    "#     # pick a random location that is occupied by a white piece or a black piece and insert a king there by index\n",
    "#     K = insert_piece(K, np.random.choice(np.where(WP == 1)[0]))\n",
    "#     K = insert_piece(K, np.random.choice(np.where(BP == 1)[0]))\n",
    "print_board(WP, BP, K)\n",
    "\n",
    "print(bin(WP))\n",
    "print(bin(BP))\n",
    "print(bin(K))\n",
    "\n",
    "white_moves = generate_legal_moves(WP, BP, K, PlayerTurn.WHITE)\n",
    "black_moves = generate_legal_moves(WP, BP, K, PlayerTurn.BLACK)\n",
    "\n",
    "# print_board(WP, BP, K)\n",
    "print(f\"White moves: {convert_move_list_to_pdn(white_moves)}\")\n",
    "print(f\"Black moves: {convert_move_list_to_pdn(black_moves)}\")\n"
   ]
  }
 ],
 "metadata": {
  "kernelspec": {
   "display_name": ".virtualenvs",
   "language": "python",
   "name": "python3"
  },
  "language_info": {
   "codemirror_mode": {
    "name": "ipython",
    "version": 3
   },
   "file_extension": ".py",
   "mimetype": "text/x-python",
   "name": "python",
   "nbconvert_exporter": "python",
   "pygments_lexer": "ipython3",
   "version": "3.10.13"
  }
 },
 "nbformat": 4,
 "nbformat_minor": 2
}
